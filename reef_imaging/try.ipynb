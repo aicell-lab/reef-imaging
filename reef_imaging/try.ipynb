{
 "cells": [
  {
   "cell_type": "code",
   "execution_count": 1,
   "metadata": {},
   "outputs": [
    {
     "name": "stdout",
     "output_type": "stream",
     "text": [
      "Available samples: 1\n",
      "Available microscopes: 1\n",
      "Cytomat service connected: ObjectProxy({'name': 'Incubator Control', 'id': 'ws-user-twisty-cafe-26457667/DSPmPtjZtcZZDXtdFgSgXU:incubator-control', 'config': ObjectProxy({'visibility': 'public', 'workspace': 'ws-user-twisty-cafe-26457667', 'url': 'http://127.0.0.1:9527/ws-user-twisty-cafe-26457667/services/ws-user-twisty-cafe-26457667/DSPmPtjZtcZZDXtdFgSgXU:incubator-control'}), 'initialize': <function RPC._generate_remote_method.<locals>.remote_method at 0x7e8d43ff9300>, 'put_sample_from_transfer_station_to_slot': <function RPC._generate_remote_method.<locals>.remote_method at 0x7e8d43ff93a0>, 'get_sample_from_slot_to_transfer_station': <function RPC._generate_remote_method.<locals>.remote_method at 0x7e8d43ff9440>, 'is_busy': <function RPC._generate_remote_method.<locals>.remote_method at 0x7e8d43ff94e0>, 'type': 'generic'})\n",
      "Dorna service connected: ObjectProxy({'name': 'Robotic Arm Control', 'id': 'ws-user-lateral-feather-37669992/Nt3bi4pHyLxBdkwqxr3w9r:robotic-arm-control', 'config': ObjectProxy({'visibility': 'public', 'workspace': 'ws-user-lateral-feather-37669992', 'url': 'http://127.0.0.1:9527/ws-user-lateral-feather-37669992/services/ws-user-lateral-feather-37669992/Nt3bi4pHyLxBdkwqxr3w9r:robotic-arm-control'}), 'move_sample_from_microscope1_to_incubator': <function RPC._generate_remote_method.<locals>.remote_method at 0x7e8d43ffa340>, 'move_sample_from_incubator_to_microscope1': <function RPC._generate_remote_method.<locals>.remote_method at 0x7e8d43ffa3e0>, 'move_plate': <function RPC._generate_remote_method.<locals>.remote_method at 0x7e8d43ffa480>, 'is_busy': <function RPC._generate_remote_method.<locals>.remote_method at 0x7e8d43ffa520>, 'connect': <function RPC._generate_remote_method.<locals>.remote_method at 0x7e8d43ffa5c0>, 'disconnect': <function RPC._generate_remote_method.<locals>.remote_method at 0x7e8d43ffa660>, 'halt': <function RPC._generate_remote_method.<locals>.remote_method at 0x7e8d43ffa700>, 'type': 'generic'})\n",
      "Microscope service connected: ObjectProxy({'name': 'Microscope Control Service', 'id': 'ws-user-luck-trampoline-39276051/XiKN8UhpXQERDBLEic6STQ:microscope-control-squid-real-microscope0_local', 'config': ObjectProxy({'visibility': 'public', 'run_in_executor': True, 'workspace': 'ws-user-luck-trampoline-39276051', 'url': 'http://127.0.0.1:9527/ws-user-luck-trampoline-39276051/services/ws-user-luck-trampoline-39276051/XiKN8UhpXQERDBLEic6STQ:microscope-control-squid-real-microscope0_local'}), 'type': 'echo', 'move_by_distance': <function RPC._generate_remote_method.<locals>.remote_method at 0x7e8d43ff9760>, 'snap': <function RPC._generate_remote_method.<locals>.remote_method at 0x7e8d43ff9bc0>, 'one_new_frame': <function RPC._generate_remote_method.<locals>.remote_method at 0x7e8d43ff9a80>, 'off_illumination': <function RPC._generate_remote_method.<locals>.remote_method at 0x7e8d43ffa840>, 'on_illumination': <function RPC._generate_remote_method.<locals>.remote_method at 0x7e8d43ffa7a0>, 'set_illumination': <function RPC._generate_remote_method.<locals>.remote_method at 0x7e8d43ffa8e0>, 'set_camera_exposure': <function RPC._generate_remote_method.<locals>.remote_method at 0x7e8d43ff9b20>, 'scan_well_plate': <function RPC._generate_remote_method.<locals>.remote_method at 0x7e8d43ffa160>, 'stop_scan': <function RPC._generate_remote_method.<locals>.remote_method at 0x7e8d43ff9c60>, 'home_stage': <function RPC._generate_remote_method.<locals>.remote_method at 0x7e8d43ffa2a0>, 'return_stage': <function RPC._generate_remote_method.<locals>.remote_method at 0x7e8d43ffa200>, 'move_to_position': <function RPC._generate_remote_method.<locals>.remote_method at 0x7e8d43ff9da0>, 'move_to_loading_position': <function RPC._generate_remote_method.<locals>.remote_method at 0x7e8d43ff98a0>, 'auto_focus': <function RPC._generate_remote_method.<locals>.remote_method at 0x7e8d43ff9800>, 'get_status': <function RPC._generate_remote_method.<locals>.remote_method at 0x7e8d43ff9620>, 'update_parameters_from_client': <function RPC._generate_remote_method.<locals>.remote_method at 0x7e8d43ff9580>, 'get_chatbot_url': <function RPC._generate_remote_method.<locals>.remote_method at 0x7e8d43ff96c0>})\n"
     ]
    }
   ],
   "source": [
    "from orchestrator import TimeLapseOrchestrator\n",
    "import time\n",
    "\n",
    "orchestrator = TimeLapseOrchestrator()"
   ]
  },
  {
   "cell_type": "code",
   "execution_count": null,
   "metadata": {},
   "outputs": [
    {
     "name": "stdout",
     "output_type": "stream",
     "text": [
      "Is the robotic arm busy? False\n",
      "Is the robotic arm busy? True\n",
      "Is the robotic arm busy? True\n",
      "Is the robotic arm busy? True\n",
      "The action was halted incase of an emergency\n"
     ]
    }
   ],
   "source": [
    "orchestrator.robotic_arm.connect()\n",
    "orchestrator.robotic_arm.is_busy()\n",
    "print(f\"Is the robotic arm busy? {orchestrator.robotic_arm.is_busy()}\")\n",
    "orchestrator.robotic_arm.move_sample_from_incubator_to_microscope1()\n",
    "time.sleep(3)\n",
    "\n",
    "#  stop to sumulate the user want to stop the process\n",
    "orchestrator.robotic_arm.halt()\n",
    "print(\"The action was halted incase of an emergency\")\n",
    "orchestrator.robotic_arm.disconnect()"
   ]
  },
  {
   "cell_type": "code",
   "execution_count": 4,
   "metadata": {},
   "outputs": [],
   "source": [
    "orchestrator.incubator.initialize()\n",
    "while orchestrator.incubator.is_busy():\n",
    "    time.sleep(1)"
   ]
  },
  {
   "cell_type": "code",
   "execution_count": 3,
   "metadata": {},
   "outputs": [],
   "source": [
    "orchestrator.incubator.get_sample_from_slot_to_transfer_station(3)\n",
    "while orchestrator.incubator.is_busy():\n",
    "    time.sleep(1)"
   ]
  },
  {
   "cell_type": "code",
   "execution_count": 11,
   "metadata": {},
   "outputs": [],
   "source": [
    "orchestrator.incubator.put_sample_from_transfer_station_to_slot(3)\n",
    "while orchestrator.incubator.is_busy():\n",
    "    time.sleep(1)"
   ]
  },
  {
   "cell_type": "code",
   "execution_count": 14,
   "metadata": {},
   "outputs": [
    {
     "data": {
      "text/plain": [
       "'The stage moved to home position in z, y, and x axis'"
      ]
     },
     "execution_count": 14,
     "metadata": {},
     "output_type": "execute_result"
    }
   ],
   "source": [
    "orchestrator.microscope.home_stage()"
   ]
  },
  {
   "cell_type": "code",
   "execution_count": 15,
   "metadata": {},
   "outputs": [
    {
     "data": {
      "text/plain": [
       "'The stage moved to the initial position'"
      ]
     },
     "execution_count": 15,
     "metadata": {},
     "output_type": "execute_result"
    }
   ],
   "source": [
    "orchestrator.microscope.return_stage(context=None)"
   ]
  },
  {
   "cell_type": "code",
   "execution_count": 7,
   "metadata": {},
   "outputs": [
    {
     "name": "stdout",
     "output_type": "stream",
     "text": [
      "Sample moved to transfer station.\n",
      "microscope homed.\n"
     ]
    },
    {
     "ename": "KeyboardInterrupt",
     "evalue": "",
     "output_type": "error",
     "traceback": [
      "\u001b[31m---------------------------------------------------------------------------\u001b[39m",
      "\u001b[31mKeyboardInterrupt\u001b[39m                         Traceback (most recent call last)",
      "\u001b[36mCell\u001b[39m\u001b[36m \u001b[39m\u001b[32mIn[7]\u001b[39m\u001b[32m, line 1\u001b[39m\n\u001b[32m----> \u001b[39m\u001b[32m1\u001b[39m \u001b[43morchestrator\u001b[49m\u001b[43m.\u001b[49m\u001b[43mtransport_sample_from_incubator_to_microscope\u001b[49m\u001b[43m(\u001b[49m\u001b[43m)\u001b[49m\n",
      "\u001b[36mFile \u001b[39m\u001b[32m~/workspace/reef-imaging/reef_imaging/orchestrator.py:43\u001b[39m, in \u001b[36mTimeLapseOrchestrator.transport_sample_from_incubator_to_microscope\u001b[39m\u001b[34m(self, incubator_slot, microscope)\u001b[39m\n\u001b[32m     41\u001b[39m \u001b[38;5;28mprint\u001b[39m(\u001b[33m\"\u001b[39m\u001b[33mmicroscope homed.\u001b[39m\u001b[33m\"\u001b[39m)\n\u001b[32m     42\u001b[39m \u001b[38;5;28;01mif\u001b[39;00m microscope == \u001b[32m1\u001b[39m:\n\u001b[32m---> \u001b[39m\u001b[32m43\u001b[39m     \u001b[38;5;28;43mself\u001b[39;49m\u001b[43m.\u001b[49m\u001b[43mrobotic_arm\u001b[49m\u001b[43m.\u001b[49m\u001b[43mmove_sample_from_incubator_to_microscope1\u001b[49m\u001b[43m(\u001b[49m\u001b[43m)\u001b[49m\n\u001b[32m     44\u001b[39m \u001b[38;5;28;01melse\u001b[39;00m:\n\u001b[32m     45\u001b[39m     \u001b[38;5;28mprint\u001b[39m(\u001b[33m\"\u001b[39m\u001b[33mInvalid microscope number.\u001b[39m\u001b[33m\"\u001b[39m)\n",
      "\u001b[36mFile \u001b[39m\u001b[32m~/home/tao/software/miniconda3/envs/reef-imaging/lib/python3.11/site-packages/hypha_rpc/sync.py:72\u001b[39m, in \u001b[36mconvert_async_to_sync.<locals>.wrapped_sync\u001b[39m\u001b[34m(*args, **kwargs)\u001b[39m\n\u001b[32m     69\u001b[39m     obj = \u001b[38;5;28;01mawait\u001b[39;00m async_func(*args, **kwargs)\n\u001b[32m     70\u001b[39m     \u001b[38;5;28;01mreturn\u001b[39;00m _encode_callables(obj, convert_async_to_sync, loop, executor)\n\u001b[32m---> \u001b[39m\u001b[32m72\u001b[39m result = \u001b[43masyncio\u001b[49m\u001b[43m.\u001b[49m\u001b[43mrun_coroutine_threadsafe\u001b[49m\u001b[43m(\u001b[49m\u001b[43masync_wrapper\u001b[49m\u001b[43m(\u001b[49m\u001b[43m)\u001b[49m\u001b[43m,\u001b[49m\u001b[43m \u001b[49m\u001b[43mloop\u001b[49m\u001b[43m)\u001b[49m\u001b[43m.\u001b[49m\u001b[43mresult\u001b[49m\u001b[43m(\u001b[49m\u001b[43m)\u001b[49m\n\u001b[32m     73\u001b[39m \u001b[38;5;28;01mreturn\u001b[39;00m result\n",
      "\u001b[36mFile \u001b[39m\u001b[32m~/home/tao/software/miniconda3/envs/reef-imaging/lib/python3.11/concurrent/futures/_base.py:451\u001b[39m, in \u001b[36mFuture.result\u001b[39m\u001b[34m(self, timeout)\u001b[39m\n\u001b[32m    448\u001b[39m \u001b[38;5;28;01melif\u001b[39;00m \u001b[38;5;28mself\u001b[39m._state == FINISHED:\n\u001b[32m    449\u001b[39m     \u001b[38;5;28;01mreturn\u001b[39;00m \u001b[38;5;28mself\u001b[39m.__get_result()\n\u001b[32m--> \u001b[39m\u001b[32m451\u001b[39m \u001b[38;5;28;43mself\u001b[39;49m\u001b[43m.\u001b[49m\u001b[43m_condition\u001b[49m\u001b[43m.\u001b[49m\u001b[43mwait\u001b[49m\u001b[43m(\u001b[49m\u001b[43mtimeout\u001b[49m\u001b[43m)\u001b[49m\n\u001b[32m    453\u001b[39m \u001b[38;5;28;01mif\u001b[39;00m \u001b[38;5;28mself\u001b[39m._state \u001b[38;5;129;01min\u001b[39;00m [CANCELLED, CANCELLED_AND_NOTIFIED]:\n\u001b[32m    454\u001b[39m     \u001b[38;5;28;01mraise\u001b[39;00m CancelledError()\n",
      "\u001b[36mFile \u001b[39m\u001b[32m~/home/tao/software/miniconda3/envs/reef-imaging/lib/python3.11/threading.py:327\u001b[39m, in \u001b[36mCondition.wait\u001b[39m\u001b[34m(self, timeout)\u001b[39m\n\u001b[32m    325\u001b[39m \u001b[38;5;28;01mtry\u001b[39;00m:    \u001b[38;5;66;03m# restore state no matter what (e.g., KeyboardInterrupt)\u001b[39;00m\n\u001b[32m    326\u001b[39m     \u001b[38;5;28;01mif\u001b[39;00m timeout \u001b[38;5;129;01mis\u001b[39;00m \u001b[38;5;28;01mNone\u001b[39;00m:\n\u001b[32m--> \u001b[39m\u001b[32m327\u001b[39m         \u001b[43mwaiter\u001b[49m\u001b[43m.\u001b[49m\u001b[43macquire\u001b[49m\u001b[43m(\u001b[49m\u001b[43m)\u001b[49m\n\u001b[32m    328\u001b[39m         gotit = \u001b[38;5;28;01mTrue\u001b[39;00m\n\u001b[32m    329\u001b[39m     \u001b[38;5;28;01melse\u001b[39;00m:\n",
      "\u001b[31mKeyboardInterrupt\u001b[39m: "
     ]
    }
   ],
   "source": [
    "orchestrator.transport_sample_from_incubator_to_microscope()"
   ]
  },
  {
   "cell_type": "code",
   "execution_count": 9,
   "metadata": {},
   "outputs": [
    {
     "name": "stdout",
     "output_type": "stream",
     "text": [
      "microscope homed.\n"
     ]
    },
    {
     "ename": "KeyboardInterrupt",
     "evalue": "",
     "output_type": "error",
     "traceback": [
      "\u001b[31m---------------------------------------------------------------------------\u001b[39m",
      "\u001b[31mKeyboardInterrupt\u001b[39m                         Traceback (most recent call last)",
      "\u001b[36mCell\u001b[39m\u001b[36m \u001b[39m\u001b[32mIn[9]\u001b[39m\u001b[32m, line 1\u001b[39m\n\u001b[32m----> \u001b[39m\u001b[32m1\u001b[39m \u001b[43morchestrator\u001b[49m\u001b[43m.\u001b[49m\u001b[43mtransport_sample_from_microscope_to_incubator\u001b[49m\u001b[43m(\u001b[49m\u001b[43m)\u001b[49m\n",
      "\u001b[36mFile \u001b[39m\u001b[32m~/workspace/reef-imaging/reef_imaging/orchestrator.py:60\u001b[39m, in \u001b[36mTimeLapseOrchestrator.transport_sample_from_microscope_to_incubator\u001b[39m\u001b[34m(self, microscope, incubator_slot)\u001b[39m\n\u001b[32m     58\u001b[39m \u001b[38;5;28mprint\u001b[39m(\u001b[33m\"\u001b[39m\u001b[33mmicroscope homed.\u001b[39m\u001b[33m\"\u001b[39m)\n\u001b[32m     59\u001b[39m \u001b[38;5;28;01mif\u001b[39;00m microscope == \u001b[32m1\u001b[39m:\n\u001b[32m---> \u001b[39m\u001b[32m60\u001b[39m     \u001b[38;5;28;43mself\u001b[39;49m\u001b[43m.\u001b[49m\u001b[43mrobotic_arm\u001b[49m\u001b[43m.\u001b[49m\u001b[43mmove_sample_from_microscope1_to_incubator\u001b[49m\u001b[43m(\u001b[49m\u001b[43m)\u001b[49m\n\u001b[32m     61\u001b[39m \u001b[38;5;28;01melse\u001b[39;00m:\n\u001b[32m     62\u001b[39m     \u001b[38;5;28mprint\u001b[39m(\u001b[33m\"\u001b[39m\u001b[33mInvalid microscope number.\u001b[39m\u001b[33m\"\u001b[39m)\n",
      "\u001b[36mFile \u001b[39m\u001b[32m~/home/tao/software/miniconda3/envs/reef-imaging/lib/python3.11/site-packages/hypha_rpc/sync.py:72\u001b[39m, in \u001b[36mconvert_async_to_sync.<locals>.wrapped_sync\u001b[39m\u001b[34m(*args, **kwargs)\u001b[39m\n\u001b[32m     69\u001b[39m     obj = \u001b[38;5;28;01mawait\u001b[39;00m async_func(*args, **kwargs)\n\u001b[32m     70\u001b[39m     \u001b[38;5;28;01mreturn\u001b[39;00m _encode_callables(obj, convert_async_to_sync, loop, executor)\n\u001b[32m---> \u001b[39m\u001b[32m72\u001b[39m result = \u001b[43masyncio\u001b[49m\u001b[43m.\u001b[49m\u001b[43mrun_coroutine_threadsafe\u001b[49m\u001b[43m(\u001b[49m\u001b[43masync_wrapper\u001b[49m\u001b[43m(\u001b[49m\u001b[43m)\u001b[49m\u001b[43m,\u001b[49m\u001b[43m \u001b[49m\u001b[43mloop\u001b[49m\u001b[43m)\u001b[49m\u001b[43m.\u001b[49m\u001b[43mresult\u001b[49m\u001b[43m(\u001b[49m\u001b[43m)\u001b[49m\n\u001b[32m     73\u001b[39m \u001b[38;5;28;01mreturn\u001b[39;00m result\n",
      "\u001b[36mFile \u001b[39m\u001b[32m~/home/tao/software/miniconda3/envs/reef-imaging/lib/python3.11/concurrent/futures/_base.py:451\u001b[39m, in \u001b[36mFuture.result\u001b[39m\u001b[34m(self, timeout)\u001b[39m\n\u001b[32m    448\u001b[39m \u001b[38;5;28;01melif\u001b[39;00m \u001b[38;5;28mself\u001b[39m._state == FINISHED:\n\u001b[32m    449\u001b[39m     \u001b[38;5;28;01mreturn\u001b[39;00m \u001b[38;5;28mself\u001b[39m.__get_result()\n\u001b[32m--> \u001b[39m\u001b[32m451\u001b[39m \u001b[38;5;28;43mself\u001b[39;49m\u001b[43m.\u001b[49m\u001b[43m_condition\u001b[49m\u001b[43m.\u001b[49m\u001b[43mwait\u001b[49m\u001b[43m(\u001b[49m\u001b[43mtimeout\u001b[49m\u001b[43m)\u001b[49m\n\u001b[32m    453\u001b[39m \u001b[38;5;28;01mif\u001b[39;00m \u001b[38;5;28mself\u001b[39m._state \u001b[38;5;129;01min\u001b[39;00m [CANCELLED, CANCELLED_AND_NOTIFIED]:\n\u001b[32m    454\u001b[39m     \u001b[38;5;28;01mraise\u001b[39;00m CancelledError()\n",
      "\u001b[36mFile \u001b[39m\u001b[32m~/home/tao/software/miniconda3/envs/reef-imaging/lib/python3.11/threading.py:327\u001b[39m, in \u001b[36mCondition.wait\u001b[39m\u001b[34m(self, timeout)\u001b[39m\n\u001b[32m    325\u001b[39m \u001b[38;5;28;01mtry\u001b[39;00m:    \u001b[38;5;66;03m# restore state no matter what (e.g., KeyboardInterrupt)\u001b[39;00m\n\u001b[32m    326\u001b[39m     \u001b[38;5;28;01mif\u001b[39;00m timeout \u001b[38;5;129;01mis\u001b[39;00m \u001b[38;5;28;01mNone\u001b[39;00m:\n\u001b[32m--> \u001b[39m\u001b[32m327\u001b[39m         \u001b[43mwaiter\u001b[49m\u001b[43m.\u001b[49m\u001b[43macquire\u001b[49m\u001b[43m(\u001b[49m\u001b[43m)\u001b[49m\n\u001b[32m    328\u001b[39m         gotit = \u001b[38;5;28;01mTrue\u001b[39;00m\n\u001b[32m    329\u001b[39m     \u001b[38;5;28;01melse\u001b[39;00m:\n",
      "\u001b[31mKeyboardInterrupt\u001b[39m: "
     ]
    }
   ],
   "source": [
    "orchestrator.transport_sample_from_microscope_to_incubator()"
   ]
  }
 ],
 "metadata": {
  "kernelspec": {
   "display_name": "reef-imaging",
   "language": "python",
   "name": "python3"
  },
  "language_info": {
   "codemirror_mode": {
    "name": "ipython",
    "version": 3
   },
   "file_extension": ".py",
   "mimetype": "text/x-python",
   "name": "python",
   "nbconvert_exporter": "python",
   "pygments_lexer": "ipython3",
   "version": "3.11.9"
  }
 },
 "nbformat": 4,
 "nbformat_minor": 2
}
