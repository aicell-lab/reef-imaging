{
 "cells": [
  {
   "cell_type": "code",
   "execution_count": 1,
   "metadata": {},
   "outputs": [
    {
     "name": "stdout",
     "output_type": "stream",
     "text": [
      "Available samples: 1\n",
      "Available microscopes: 1\n",
      "Cytomat service connected: ObjectProxy({'name': 'Incubator Control', 'id': 'ws-user-twisty-cafe-26457667/DSPmPtjZtcZZDXtdFgSgXU:incubator-control', 'config': ObjectProxy({'visibility': 'public', 'workspace': 'ws-user-twisty-cafe-26457667', 'url': 'http://127.0.0.1:9527/ws-user-twisty-cafe-26457667/services/ws-user-twisty-cafe-26457667/DSPmPtjZtcZZDXtdFgSgXU:incubator-control'}), 'initialize': <function RPC._generate_remote_method.<locals>.remote_method at 0x76f7680ed440>, 'put_sample_from_transfer_station_to_slot': <function RPC._generate_remote_method.<locals>.remote_method at 0x76f7680ed4e0>, 'get_sample_from_slot_to_transfer_station': <function RPC._generate_remote_method.<locals>.remote_method at 0x76f7680ed580>, 'is_busy': <function RPC._generate_remote_method.<locals>.remote_method at 0x76f7680ed620>, 'type': 'generic'})\n",
      "Dorna service connected: ObjectProxy({'name': 'Robotic Arm Control', 'id': 'ws-user-furtive-charger-52893638/URyPGWwJpSphcjwtcnH6vF:robotic-arm-control', 'config': ObjectProxy({'visibility': 'public', 'workspace': 'ws-user-furtive-charger-52893638', 'url': 'http://127.0.0.1:9527/ws-user-furtive-charger-52893638/services/ws-user-furtive-charger-52893638/URyPGWwJpSphcjwtcnH6vF:robotic-arm-control'}), 'move_sample_from_microscope1_to_incubator': <function RPC._generate_remote_method.<locals>.remote_method at 0x76f7680ee7a0>, 'move_sample_from_incubator_to_microscope1': <function RPC._generate_remote_method.<locals>.remote_method at 0x76f7680ee840>, 'grab_sample_from_microscope1': <function RPC._generate_remote_method.<locals>.remote_method at 0x76f7680ee8e0>, 'grab_sample_from_incubator': <function RPC._generate_remote_method.<locals>.remote_method at 0x76f7680ee980>, 'put_sample_on_microscope1': <function RPC._generate_remote_method.<locals>.remote_method at 0x76f7680eea20>, 'put_sample_on_incubator': <function RPC._generate_remote_method.<locals>.remote_method at 0x76f7680eeac0>, 'transport_from_incubator_to_microscope1': <function RPC._generate_remote_method.<locals>.remote_method at 0x76f7680eeb60>, 'transport_from_microscope1_to_incubator': <function RPC._generate_remote_method.<locals>.remote_method at 0x76f7680eec00>, 'move_plate': <function RPC._generate_remote_method.<locals>.remote_method at 0x76f7680eeca0>, 'connect': <function RPC._generate_remote_method.<locals>.remote_method at 0x76f7680eed40>, 'disconnect': <function RPC._generate_remote_method.<locals>.remote_method at 0x76f7680eede0>, 'halt': <function RPC._generate_remote_method.<locals>.remote_method at 0x76f7680eee80>, 'type': 'generic'})\n",
      "Microscope service connected: ObjectProxy({'name': 'Microscope Control Service', 'id': 'ws-user-zenith-glue-70976543/HbMMyVRaCXVkvXxybPaELs:microscope-control-squid-real-microscope0_local', 'config': ObjectProxy({'visibility': 'public', 'run_in_executor': True, 'workspace': 'ws-user-zenith-glue-70976543', 'url': 'http://127.0.0.1:9527/ws-user-zenith-glue-70976543/services/ws-user-zenith-glue-70976543/HbMMyVRaCXVkvXxybPaELs:microscope-control-squid-real-microscope0_local'}), 'type': 'echo', 'move_by_distance': <function RPC._generate_remote_method.<locals>.remote_method at 0x76f7680ed3a0>, 'snap': <function RPC._generate_remote_method.<locals>.remote_method at 0x76f7680ecfe0>, 'one_new_frame': <function RPC._generate_remote_method.<locals>.remote_method at 0x76f7680ecf40>, 'off_illumination': <function RPC._generate_remote_method.<locals>.remote_method at 0x76f7680ed080>, 'on_illumination': <function RPC._generate_remote_method.<locals>.remote_method at 0x76f7680ecea0>, 'set_illumination': <function RPC._generate_remote_method.<locals>.remote_method at 0x76f7680ecb80>, 'set_camera_exposure': <function RPC._generate_remote_method.<locals>.remote_method at 0x76f7680eccc0>, 'scan_well_plate': <function RPC._generate_remote_method.<locals>.remote_method at 0x76f7680ece00>, 'stop_scan': <function RPC._generate_remote_method.<locals>.remote_method at 0x76f7680ecd60>, 'home_stage': <function RPC._generate_remote_method.<locals>.remote_method at 0x76f7680ecc20>, 'return_stage': <function RPC._generate_remote_method.<locals>.remote_method at 0x76f7680ecae0>, 'navigate_to_well': <function RPC._generate_remote_method.<locals>.remote_method at 0x76f7680eca40>, 'move_to_position': <function RPC._generate_remote_method.<locals>.remote_method at 0x76f7680ec9a0>, 'move_to_loading_position': <function RPC._generate_remote_method.<locals>.remote_method at 0x76f7680ec860>, 'auto_focus': <function RPC._generate_remote_method.<locals>.remote_method at 0x76f7680ec7c0>, 'get_status': <function RPC._generate_remote_method.<locals>.remote_method at 0x76f7680ec720>, 'update_parameters_from_client': <function RPC._generate_remote_method.<locals>.remote_method at 0x76f7680ec680>, 'get_chatbot_url': <function RPC._generate_remote_method.<locals>.remote_method at 0x76f7680ec5e0>})\n"
     ]
    }
   ],
   "source": [
    "from orchestrator import TimeLapseOrchestrator\n",
    "import time\n",
    "\n",
    "orchestrator = TimeLapseOrchestrator()"
   ]
  },
  {
   "cell_type": "code",
   "execution_count": null,
   "metadata": {},
   "outputs": [
    {
     "name": "stdout",
     "output_type": "stream",
     "text": [
      "Is the robotic arm busy? False\n",
      "Is the robotic arm busy? True\n",
      "Is the robotic arm busy? True\n",
      "Is the robotic arm busy? True\n",
      "The action was halted incase of an emergency\n"
     ]
    }
   ],
   "source": [
    "orchestrator.robotic_arm.connect()\n",
    "orchestrator.robotic_arm.is_busy()\n",
    "print(f\"Is the robotic arm busy? {orchestrator.robotic_arm.is_busy()}\")\n",
    "orchestrator.robotic_arm.move_sample_from_incubator_to_microscope1()\n",
    "time.sleep(3)\n",
    "\n",
    "#  stop to sumulate the user want to stop the process\n",
    "orchestrator.robotic_arm.halt()\n",
    "print(\"The action was halted incase of an emergency\")\n",
    "orchestrator.robotic_arm.disconnect()"
   ]
  },
  {
   "cell_type": "code",
   "execution_count": 3,
   "metadata": {},
   "outputs": [],
   "source": [
    "orchestrator.incubator.initialize()\n",
    "while orchestrator.incubator.is_busy():\n",
    "    time.sleep(1)"
   ]
  },
  {
   "cell_type": "code",
   "execution_count": 3,
   "metadata": {},
   "outputs": [],
   "source": [
    "orchestrator.incubator.get_sample_from_slot_to_transfer_station(3)\n",
    "while orchestrator.incubator.is_busy():\n",
    "    time.sleep(1)"
   ]
  },
  {
   "cell_type": "code",
   "execution_count": 3,
   "metadata": {},
   "outputs": [],
   "source": [
    "orchestrator.incubator.put_sample_from_transfer_station_to_slot(3)\n",
    "while orchestrator.incubator.is_busy():\n",
    "    time.sleep(1)"
   ]
  },
  {
   "cell_type": "code",
   "execution_count": 14,
   "metadata": {},
   "outputs": [
    {
     "data": {
      "text/plain": [
       "'The stage moved to home position in z, y, and x axis'"
      ]
     },
     "execution_count": 14,
     "metadata": {},
     "output_type": "execute_result"
    }
   ],
   "source": [
    "orchestrator.microscope.home_stage()"
   ]
  },
  {
   "cell_type": "code",
   "execution_count": 9,
   "metadata": {},
   "outputs": [
    {
     "data": {
      "text/plain": [
       "'The stage moved to the initial position'"
      ]
     },
     "execution_count": 9,
     "metadata": {},
     "output_type": "execute_result"
    }
   ],
   "source": [
    "orchestrator.microscope.return_stage(context=None)"
   ]
  },
  {
   "cell_type": "code",
   "execution_count": null,
   "metadata": {},
   "outputs": [
    {
     "data": {
      "text/plain": [
       "True"
      ]
     },
     "execution_count": 2,
     "metadata": {},
     "output_type": "execute_result"
    }
   ],
   "source": [
    "orchestrator.robotic_arm.connect()\n",
    "orchestrator.robotic_arm.halt()\n",
    "orchestrator.robotic_arm.grab()\n"
   ]
  },
  {
   "cell_type": "code",
   "execution_count": 2,
   "metadata": {},
   "outputs": [
    {
     "name": "stdout",
     "output_type": "stream",
     "text": [
      "Sample moved to transfer station.\n",
      "microscope homed.\n",
      "Sample grabbed from incubator.\n",
      "Sample moved to microscope.\n",
      "Sample placed on microscope.\n",
      "Sample moved to microscope.\n",
      "microscope returned.\n"
     ]
    }
   ],
   "source": [
    "orchestrator.complete_process_transport_sample_from_incubator_to_microscope()"
   ]
  },
  {
   "cell_type": "code",
   "execution_count": 13,
   "metadata": {},
   "outputs": [],
   "source": [
    "orchestrator.microscope.navigate_to_well('A',1,wellplate_type=\"96\")\n",
    "image = orchestrator.microscope.snap(exposure_time=28,channel=0,intensity=20)"
   ]
  },
  {
   "cell_type": "code",
   "execution_count": 14,
   "metadata": {},
   "outputs": [
    {
     "name": "stdout",
     "output_type": "stream",
     "text": [
      "http://127.0.0.1:9527/ws-user-zenith-glue-70976543/apps/data-store-real-microscope_local/get?id=7213c68b-a737-4966-9021-f4270a3444d6\n"
     ]
    }
   ],
   "source": [
    "print(image)"
   ]
  },
  {
   "cell_type": "code",
   "execution_count": 2,
   "metadata": {},
   "outputs": [
    {
     "name": "stdout",
     "output_type": "stream",
     "text": [
      "microscope homed.\n",
      "Sample grabbed from microscope.\n",
      "Sample moved to incubator.\n",
      "Sample placed on incubator.\n",
      "Sample moved from microscope1 to incubator\n",
      "Sample moved to incubator.\n"
     ]
    }
   ],
   "source": [
    "orchestrator.complete_process_transport_sample_from_microscope_to_incubator()"
   ]
  }
 ],
 "metadata": {
  "kernelspec": {
   "display_name": "reef-imaging",
   "language": "python",
   "name": "python3"
  },
  "language_info": {
   "codemirror_mode": {
    "name": "ipython",
    "version": 3
   },
   "file_extension": ".py",
   "mimetype": "text/x-python",
   "name": "python",
   "nbconvert_exporter": "python",
   "pygments_lexer": "ipython3",
   "version": "3.11.9"
  }
 },
 "nbformat": 4,
 "nbformat_minor": 2
}
