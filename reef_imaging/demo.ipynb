{
 "cells": [
  {
   "cell_type": "code",
   "execution_count": 2,
   "metadata": {},
   "outputs": [
    {
     "name": "stdout",
     "output_type": "stream",
     "text": [
      "Available samples: 1\n",
      "Available microscopes: 1\n",
      "Cytomat service connected: ObjectProxy({'name': 'Incubator Control', 'id': 'ws-user-twisty-cafe-26457667/DSPmPtjZtcZZDXtdFgSgXU:incubator-control', 'config': ObjectProxy({'visibility': 'public', 'workspace': 'ws-user-twisty-cafe-26457667', 'url': 'http://127.0.0.1:9527/ws-user-twisty-cafe-26457667/services/ws-user-twisty-cafe-26457667/DSPmPtjZtcZZDXtdFgSgXU:incubator-control'}), 'initialize': <function RPC._generate_remote_method.<locals>.remote_method at 0x78ae481251c0>, 'put_sample_from_transfer_station_to_slot': <function RPC._generate_remote_method.<locals>.remote_method at 0x78ae48125120>, 'get_sample_from_slot_to_transfer_station': <function RPC._generate_remote_method.<locals>.remote_method at 0x78ae48125260>, 'is_busy': <function RPC._generate_remote_method.<locals>.remote_method at 0x78ae48125300>, 'type': 'generic'})\n",
      "Dorna service connected: ObjectProxy({'name': 'Robotic Arm Control', 'id': 'ws-user-furtive-charger-52893638/URyPGWwJpSphcjwtcnH6vF:robotic-arm-control', 'config': ObjectProxy({'visibility': 'public', 'workspace': 'ws-user-furtive-charger-52893638', 'url': 'http://127.0.0.1:9527/ws-user-furtive-charger-52893638/services/ws-user-furtive-charger-52893638/URyPGWwJpSphcjwtcnH6vF:robotic-arm-control'}), 'move_sample_from_microscope1_to_incubator': <function RPC._generate_remote_method.<locals>.remote_method at 0x78ae48126480>, 'move_sample_from_incubator_to_microscope1': <function RPC._generate_remote_method.<locals>.remote_method at 0x78ae48126520>, 'grab_sample_from_microscope1': <function RPC._generate_remote_method.<locals>.remote_method at 0x78ae481265c0>, 'grab_sample_from_incubator': <function RPC._generate_remote_method.<locals>.remote_method at 0x78ae48126660>, 'put_sample_on_microscope1': <function RPC._generate_remote_method.<locals>.remote_method at 0x78ae48126700>, 'put_sample_on_incubator': <function RPC._generate_remote_method.<locals>.remote_method at 0x78ae481267a0>, 'transport_from_incubator_to_microscope1': <function RPC._generate_remote_method.<locals>.remote_method at 0x78ae48126840>, 'transport_from_microscope1_to_incubator': <function RPC._generate_remote_method.<locals>.remote_method at 0x78ae481268e0>, 'move_plate': <function RPC._generate_remote_method.<locals>.remote_method at 0x78ae48126980>, 'connect': <function RPC._generate_remote_method.<locals>.remote_method at 0x78ae48126a20>, 'disconnect': <function RPC._generate_remote_method.<locals>.remote_method at 0x78ae48126ac0>, 'halt': <function RPC._generate_remote_method.<locals>.remote_method at 0x78ae48126b60>, 'type': 'generic'})\n",
      "Microscope service connected: ObjectProxy({'name': 'Microscope Control Service', 'id': 'ws-user-zenith-glue-70976543/HbMMyVRaCXVkvXxybPaELs:microscope-control-squid-real-microscope0_local', 'config': ObjectProxy({'visibility': 'public', 'run_in_executor': True, 'workspace': 'ws-user-zenith-glue-70976543', 'url': 'http://127.0.0.1:9527/ws-user-zenith-glue-70976543/services/ws-user-zenith-glue-70976543/HbMMyVRaCXVkvXxybPaELs:microscope-control-squid-real-microscope0_local'}), 'type': 'echo', 'move_by_distance': <function RPC._generate_remote_method.<locals>.remote_method at 0x78ae483b8680>, 'snap': <function RPC._generate_remote_method.<locals>.remote_method at 0x78ae481271a0>, 'one_new_frame': <function RPC._generate_remote_method.<locals>.remote_method at 0x78ae48126e80>, 'off_illumination': <function RPC._generate_remote_method.<locals>.remote_method at 0x78ae48127240>, 'on_illumination': <function RPC._generate_remote_method.<locals>.remote_method at 0x78ae48127100>, 'set_illumination': <function RPC._generate_remote_method.<locals>.remote_method at 0x78ae481258a0>, 'set_camera_exposure': <function RPC._generate_remote_method.<locals>.remote_method at 0x78ae48125580>, 'scan_well_plate': <function RPC._generate_remote_method.<locals>.remote_method at 0x78ae48125800>, 'stop_scan': <function RPC._generate_remote_method.<locals>.remote_method at 0x78ae48125940>, 'home_stage': <function RPC._generate_remote_method.<locals>.remote_method at 0x78ae481256c0>, 'return_stage': <function RPC._generate_remote_method.<locals>.remote_method at 0x78ae48126ca0>, 'navigate_to_well': <function RPC._generate_remote_method.<locals>.remote_method at 0x78ae48126c00>, 'move_to_position': <function RPC._generate_remote_method.<locals>.remote_method at 0x78ae48126d40>, 'move_to_loading_position': <function RPC._generate_remote_method.<locals>.remote_method at 0x78ae48125760>, 'auto_focus': <function RPC._generate_remote_method.<locals>.remote_method at 0x78ae481262a0>, 'get_status': <function RPC._generate_remote_method.<locals>.remote_method at 0x78ae48125a80>, 'update_parameters_from_client': <function RPC._generate_remote_method.<locals>.remote_method at 0x78ae481263e0>, 'get_chatbot_url': <function RPC._generate_remote_method.<locals>.remote_method at 0x78ae48126340>})\n"
     ]
    }
   ],
   "source": [
    "from orchestrator import TimeLapseOrchestrator\n",
    "import time\n",
    "\n",
    "orchestrator = TimeLapseOrchestrator()"
   ]
  },
  {
   "cell_type": "code",
   "execution_count": 3,
   "metadata": {},
   "outputs": [],
   "source": [
    "orchestrator.incubator.initialize()\n",
    "while orchestrator.incubator.is_busy():\n",
    "    time.sleep(1)"
   ]
  },
  {
   "cell_type": "code",
   "execution_count": 3,
   "metadata": {},
   "outputs": [],
   "source": [
    "orchestrator.incubator.get_sample_from_slot_to_transfer_station(3)\n",
    "while orchestrator.incubator.is_busy():\n",
    "    time.sleep(1)"
   ]
  },
  {
   "cell_type": "code",
   "execution_count": 3,
   "metadata": {},
   "outputs": [],
   "source": [
    "orchestrator.incubator.put_sample_from_transfer_station_to_slot(3)\n",
    "while orchestrator.incubator.is_busy():\n",
    "    time.sleep(1)"
   ]
  },
  {
   "cell_type": "code",
   "execution_count": 14,
   "metadata": {},
   "outputs": [
    {
     "data": {
      "text/plain": [
       "'The stage moved to home position in z, y, and x axis'"
      ]
     },
     "execution_count": 14,
     "metadata": {},
     "output_type": "execute_result"
    }
   ],
   "source": [
    "orchestrator.microscope.home_stage()"
   ]
  },
  {
   "cell_type": "code",
   "execution_count": 9,
   "metadata": {},
   "outputs": [
    {
     "data": {
      "text/plain": [
       "'The stage moved to the initial position'"
      ]
     },
     "execution_count": 9,
     "metadata": {},
     "output_type": "execute_result"
    }
   ],
   "source": [
    "orchestrator.microscope.return_stage(context=None)"
   ]
  },
  {
   "cell_type": "markdown",
   "metadata": {},
   "source": [
    "## Every time you want to stop the robotic arm, you can run 'halt'"
   ]
  },
  {
   "cell_type": "code",
   "execution_count": null,
   "metadata": {},
   "outputs": [
    {
     "data": {
      "text/plain": [
       "True"
      ]
     },
     "execution_count": 16,
     "metadata": {},
     "output_type": "execute_result"
    }
   ],
   "source": [
    "orchestrator.robotic_arm.connect()\n",
    "orchestrator.robotic_arm.halt()\n"
   ]
  },
  {
   "cell_type": "code",
   "execution_count": 2,
   "metadata": {},
   "outputs": [
    {
     "name": "stdout",
     "output_type": "stream",
     "text": [
      "Sample moved to transfer station.\n",
      "microscope homed.\n",
      "Sample grabbed from incubator.\n",
      "Sample moved to microscope.\n",
      "Sample placed on microscope.\n",
      "Sample moved to microscope.\n",
      "microscope returned.\n"
     ]
    }
   ],
   "source": [
    "orchestrator.complete_process_transport_sample_from_incubator_to_microscope()"
   ]
  },
  {
   "cell_type": "code",
   "execution_count": 13,
   "metadata": {},
   "outputs": [],
   "source": [
    "orchestrator.microscope.navigate_to_well('A',1,wellplate_type=\"96\")\n",
    "image = orchestrator.microscope.snap(exposure_time=28,channel=0,intensity=20)"
   ]
  },
  {
   "cell_type": "code",
   "execution_count": 14,
   "metadata": {},
   "outputs": [
    {
     "name": "stdout",
     "output_type": "stream",
     "text": [
      "http://127.0.0.1:9527/ws-user-zenith-glue-70976543/apps/data-store-real-microscope_local/get?id=7213c68b-a737-4966-9021-f4270a3444d6\n"
     ]
    }
   ],
   "source": [
    "print(image)"
   ]
  },
  {
   "cell_type": "code",
   "execution_count": 2,
   "metadata": {},
   "outputs": [
    {
     "name": "stdout",
     "output_type": "stream",
     "text": [
      "microscope homed.\n",
      "Sample grabbed from microscope.\n",
      "Sample moved to incubator.\n",
      "Sample placed on incubator.\n",
      "Sample moved from microscope1 to incubator\n",
      "Sample moved to incubator.\n"
     ]
    }
   ],
   "source": [
    "orchestrator.complete_process_transport_sample_from_microscope_to_incubator()"
   ]
  }
 ],
 "metadata": {
  "kernelspec": {
   "display_name": "reef-imaging",
   "language": "python",
   "name": "python3"
  },
  "language_info": {
   "codemirror_mode": {
    "name": "ipython",
    "version": 3
   },
   "file_extension": ".py",
   "mimetype": "text/x-python",
   "name": "python",
   "nbconvert_exporter": "python",
   "pygments_lexer": "ipython3",
   "version": "3.11.9"
  }
 },
 "nbformat": 4,
 "nbformat_minor": 2
}
